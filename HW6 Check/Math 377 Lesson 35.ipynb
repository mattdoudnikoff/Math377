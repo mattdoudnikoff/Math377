{
 "cells": [
  {
   "cell_type": "code",
   "execution_count": 44,
   "metadata": {},
   "outputs": [],
   "source": [
    "from datascience import *\n",
    "import numpy as np\n",
    "import pandas as pd\n",
    "from math import *\n",
    "from scipy import stats\n",
    "import matplotlib.pyplot as plt\n",
    "%matplotlib inline"
   ]
  },
  {
   "cell_type": "markdown",
   "metadata": {},
   "source": [
    "## Lesson 35: Regression"
   ]
  },
  {
   "cell_type": "markdown",
   "metadata": {},
   "source": [
    "Over the last two lessons, you went over regression in Data 8.3x. In these sections, you learned how to calculate the slope and intercept of a line fit to a bivariate sample. For example, using the `baby.csv` dataset, you can use regression to predict birthweight given the gestational age of the baby at birth. "
   ]
  },
  {
   "cell_type": "markdown",
   "metadata": {},
   "source": [
    "### Exercise 1\n",
    "\n",
    "Find the least squares line that predicts birthweight based on the gestational age of a baby. You should use `minimize`, an optimization method in the `datascience` package. Note that you could use standardization (similar to what they did in Data 8.3x, `lec7.ipynb`) but the resulting intercept and slope would be in standardized units, and would need to be transformed in order to be interpretable. "
   ]
  },
  {
   "cell_type": "code",
   "execution_count": 45,
   "metadata": {},
   "outputs": [
    {
     "data": {
      "text/html": [
       "<table border=\"1\" class=\"dataframe\">\n",
       "    <thead>\n",
       "        <tr>\n",
       "            <th>Birth Weight</th> <th>Gestational Days</th> <th>Maternal Age</th> <th>Maternal Height</th> <th>Maternal Pregnancy Weight</th> <th>Maternal Smoker</th>\n",
       "        </tr>\n",
       "    </thead>\n",
       "    <tbody>\n",
       "        <tr>\n",
       "            <td>120         </td> <td>284             </td> <td>27          </td> <td>62             </td> <td>100                      </td> <td>False          </td>\n",
       "        </tr>\n",
       "        <tr>\n",
       "            <td>113         </td> <td>282             </td> <td>33          </td> <td>64             </td> <td>135                      </td> <td>False          </td>\n",
       "        </tr>\n",
       "        <tr>\n",
       "            <td>128         </td> <td>279             </td> <td>28          </td> <td>64             </td> <td>115                      </td> <td>True           </td>\n",
       "        </tr>\n",
       "    </tbody>\n",
       "</table>\n",
       "<p>... (1171 rows omitted)</p>"
      ],
      "text/plain": [
       "<IPython.core.display.HTML object>"
      ]
     },
     "metadata": {},
     "output_type": "display_data"
    }
   ],
   "source": [
    "baby = Table.read_table('baby.csv')\n",
    "baby.show(3)"
   ]
  },
  {
   "cell_type": "code",
   "execution_count": 46,
   "metadata": {},
   "outputs": [
    {
     "data": {
      "image/png": "[encoded data removed]",
      "text/plain": [
       "<Figure size 432x288 with 1 Axes>"
      ]
     },
     "metadata": {},
     "output_type": "display_data"
    }
   ],
   "source": [
    "plt.scatter(baby.column(1),baby.column(0))\n",
    "plt.show()"
   ]
  },
  {
   "cell_type": "code",
   "execution_count": 47,
   "metadata": {},
   "outputs": [
    {
     "name": "stdout",
     "output_type": "stream",
     "text": [
      "Slope is  0.4284036994399665\n",
      "Intercept is  -0.07039869065634102\n"
     ]
    }
   ],
   "source": [
    "def fit_line(tbl):\n",
    "    # Your code may need more than 1 line below here.\n",
    "    # Rather than using the regression line formulas, try\n",
    "    # calling minimize on the mean squared error.\n",
    "    def mse(slope, intercept):\n",
    "        x = tbl.column(1)\n",
    "        y = tbl.column(0)\n",
    "        fitted = slope * x + intercept\n",
    "        mse = np.mean((y - fitted) ** 2)\n",
    "        return mse\n",
    "    slope = minimize(mse)[0]\n",
    "    intercept = minimize(mse)[1]\n",
    "    return make_array(slope, intercept)\n",
    "\n",
    "baby_BWGD = baby.drop(2,3,4,5)\n",
    "s_i = fit_line(baby_BWGD)\n",
    "slope = s_i[0]\n",
    "intercept = s_i[1]\n",
    "print('Slope is ', slope)\n",
    "print('Intercept is ', intercept)"
   ]
  },
  {
   "cell_type": "markdown",
   "metadata": {},
   "source": [
    "In the context of the data, interpret the intercept and slope. "
   ]
  },
  {
   "cell_type": "markdown",
   "metadata": {},
   "source": [
    "The intercept is -0.0704 which means at 0 days, the baby's weight is would be estimated to be -0.0704 oucnes which doesn't make sense. The slope is 0.428, so everyday the baby gains 0.428 ounces. "
   ]
  },
  {
   "cell_type": "markdown",
   "metadata": {},
   "source": [
    "The slope is 0.428. It seems reasonable to expect this slope to be significantly higher than zero; it makes sense that gestational age would impact birthweight. Let's check using bootstrapping. "
   ]
  },
  {
   "cell_type": "code",
   "execution_count": 48,
   "metadata": {},
   "outputs": [],
   "source": [
    "slope_ests = []\n",
    "for _ in np.arange(1000):\n",
    "    sample = baby_BWGD.sample()\n",
    "    slope = fit_line(sample)[0]\n",
    "    slope_ests = np.append(slope_ests, slope)"
   ]
  },
  {
   "cell_type": "code",
   "execution_count": 49,
   "metadata": {},
   "outputs": [
    {
     "data": {
      "image/png": "[encoded data removed]",
      "text/plain": [
       "<Figure size 432x288 with 1 Axes>"
      ]
     },
     "metadata": {},
     "output_type": "display_data"
    }
   ],
   "source": [
    "plt.hist(slope_ests, bins=np.arange(.42,.44,.0005))\n",
    "plt.plot(percentile([2.5,97.5],slope_ests), [0,0], color='red', lw=8)\n",
    "plt.show()"
   ]
  },
  {
   "cell_type": "code",
   "execution_count": 50,
   "metadata": {},
   "outputs": [
    {
     "data": {
      "text/plain": [
       "array([0.42486509, 0.4319556 ])"
      ]
     },
     "execution_count": 50,
     "metadata": {},
     "output_type": "execute_result"
    }
   ],
   "source": [
    "conf_int = percentile([2.5,97.5],slope_ests)\n",
    "conf_int"
   ]
  },
  {
   "cell_type": "markdown",
   "metadata": {},
   "source": [
    "### Exercise 2\n",
    "\n",
    "For a baby born at 40 weeks gestational age, what do we expect to be the average birthweight according to this model?"
   ]
  },
  {
   "cell_type": "code",
   "execution_count": 51,
   "metadata": {},
   "outputs": [
    {
     "data": {
      "text/plain": [
       "119.68356605366773"
      ]
     },
     "execution_count": 51,
     "metadata": {},
     "output_type": "execute_result"
    }
   ],
   "source": [
    "days = 40 * 7\n",
    "baby_weight = days * slope + intercept\n",
    "baby_weight"
   ]
  },
  {
   "cell_type": "markdown",
   "metadata": {},
   "source": [
    "Using bootstrapping, build a 95% confidence interval around this estimate. Interpret this interval, carefully. "
   ]
  },
  {
   "cell_type": "code",
   "execution_count": 52,
   "metadata": {},
   "outputs": [],
   "source": [
    "baby_weight_ests = []\n",
    "for _ in np.arange(1000):\n",
    "    sample = baby_BWGD.sample()\n",
    "    s_i = fit_line(sample)\n",
    "    slope = s_i[0]\n",
    "    intercept = s_i[1]\n",
    "    baby_weight_ests = np.append(baby_weight_ests, days*slope+intercept)"
   ]
  },
  {
   "cell_type": "code",
   "execution_count": 53,
   "metadata": {},
   "outputs": [
    {
     "data": {
      "text/plain": [
       "array([118.81534148, 120.86289241])"
      ]
     },
     "execution_count": 53,
     "metadata": {},
     "output_type": "execute_result"
    }
   ],
   "source": [
    "confidence_int = percentile([2.5,97.5],baby_weight_ests)\n",
    "confidence_int"
   ]
  },
  {
   "cell_type": "markdown",
   "metadata": {},
   "source": [
    "95% of babies who have 40 weeks of gestational age will be in the between the weights of 118.9 and 120.9 ounces. "
   ]
  },
  {
   "cell_type": "markdown",
   "metadata": {},
   "source": [
    "This is a confidence inteval on the **mean** birthweight for a baby born at 40 weeks. "
   ]
  },
  {
   "cell_type": "markdown",
   "metadata": {},
   "source": [
    "### Exercise 3\n",
    "\n",
    "Suppose a baby is born at 40 weeks. Let's construct a confidence interval for the birthweight of *that baby*. This is different than the confidence interval on the mean birthweight of babies born at 40 weeks. This interval is known as a prediction interval. \n",
    "\n",
    "A simple way to find the prediction interval is to sample many times (with replacement) from the observed residuals and add to the predicted birthweight under the linear model. Find the percentiles of these simulations to obtain the interval. "
   ]
  },
  {
   "cell_type": "code",
   "execution_count": 54,
   "metadata": {},
   "outputs": [],
   "source": [
    "def errors(t, slope, intercept):\n",
    "    errors = t.column(0) - (t.column(1)*slope + intercept)\n",
    "    return errors"
   ]
  },
  {
   "cell_type": "code",
   "execution_count": 55,
   "metadata": {},
   "outputs": [],
   "source": [
    "def predict(coef,value):\n",
    "    return (value*coef[0] + coef[1])"
   ]
  },
  {
   "cell_type": "code",
   "execution_count": 56,
   "metadata": {},
   "outputs": [],
   "source": [
    "coef = fit_line(baby)\n",
    "resid=errors(baby,coef[0],coef[1])"
   ]
  },
  {
   "cell_type": "code",
   "execution_count": 57,
   "metadata": {},
   "outputs": [],
   "source": [
    "baby_weight_ests = []\n",
    "\n",
    "for _ in np.arange(1000):\n",
    "    baby_weight_ests = np.append(baby_weight_ests,np.sqrt((predict(fit_line(baby.sample()),280))**2+\n",
    "                                      (np.random.choice(resid,size=1))**2))"
   ]
  },
  {
   "cell_type": "code",
   "execution_count": 58,
   "metadata": {},
   "outputs": [
    {
     "data": {
      "text/plain": [
       "array([119.21739242, 126.42072757])"
      ]
     },
     "execution_count": 58,
     "metadata": {},
     "output_type": "execute_result"
    }
   ],
   "source": [
    "confidence_int = percentile([2.5,97.5],baby_weight_ests)\n",
    "confidence_int"
   ]
  },
  {
   "cell_type": "markdown",
   "metadata": {},
   "source": [
    "It turns out that this method is a little oversimplified. A \"more correct\" method is below. This requires taking into account the *leverage* of each data point (basically a measure of impact to the model of each data point). "
   ]
  },
  {
   "cell_type": "code",
   "execution_count": null,
   "metadata": {},
   "outputs": [],
   "source": [
    "pred=intercept+slope*150\n",
    "leverage=1/baby.num_rows + ((baby.column(1)-np.mean(baby.column(1)))**2)/np.sum(((baby.column(1)-np.mean(baby.column(1)))**2))\n",
    "adjresiduals=residuals/np.sqrt(1-leverage)\n",
    "\n",
    "bs_all=[]\n",
    "for _ in np.arange(5000):\n",
    "    bs_y=(intercept+slope*baby.column(1))+np.random.choice(adjresiduals,size=baby.num_rows,replace=True)\n",
    "    resample=Table().with_columns(\"y\",bs_y,\"x\",baby.column(1))\n",
    "    bs_slope,bs_intercept=minimize(mse_resample)\n",
    "    bs_residuals=bs_y-(bs_intercept+bs_slope*baby.column(1))\n",
    "    bs_adjresiduals=bs_residuals/np.sqrt(1-leverage)\n",
    "    bs_all=np.append(bs_all,150*(slope-bs_slope)+np.random.choice(bs_adjresiduals))\n",
    "\n",
    "percentile([2.5,97.5],pred+bs_all)"
   ]
  }
 ],
 "metadata": {
  "kernelspec": {
   "display_name": "Python 3",
   "language": "python",
   "name": "python3"
  },
  "language_info": {
   "codemirror_mode": {
    "name": "ipython",
    "version": 3
   },
   "file_extension": ".py",
   "mimetype": "text/x-python",
   "name": "python",
   "nbconvert_exporter": "python",
   "pygments_lexer": "ipython3",
   "version": "3.6.5"
  }
 },
 "nbformat": 4,
 "nbformat_minor": 2
}
