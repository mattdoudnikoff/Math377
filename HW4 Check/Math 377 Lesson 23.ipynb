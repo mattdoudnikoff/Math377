{
 "cells": [
  {
   "cell_type": "code",
   "execution_count": 1,
   "metadata": {},
   "outputs": [],
   "source": [
    "from datascience import *\n",
    "import numpy as np\n",
    "from math import *\n",
    "from scipy import stats\n",
    "import matplotlib.pyplot as plt\n",
    "%matplotlib inline"
   ]
  },
  {
   "cell_type": "markdown",
   "metadata": {},
   "source": [
    "## Lesson 23: Hypothesis Testing, Continued"
   ]
  },
  {
   "cell_type": "markdown",
   "metadata": {},
   "source": [
    "Recall in Lesson 22, we covered hypothesis testing. The structure of a hypothesis test is largely similar regardless of the context of the problem. We state the hypotheses, decide on a test statistic, calculate the $p$-value and reach a conclusion. To calculate a $p$-value, we need to find the distribution of the test statistic under the null hypothesis. "
   ]
  },
  {
   "cell_type": "markdown",
   "metadata": {},
   "source": [
    "### Example 1: The Lady Tasting Tea\n",
    "\n",
    "The \"lady tasting tea\" problem is a now famous story during which, at a gathering one summer afternoon in Cambridge, some friends drank tea with milk. Among them, a woman claimed to be able to tell, based on taste, whether the milk or the tea was added first to the cup. A now famous statistician, Ronald Fisher, was at the gathering, and he studied the claim. The woman was offered 8 cups of tea mixed with milk (4 with milk added first and 4 with tea added first) and she successfully identified 6 (3 of each). What can we say about her ability to discriminate the teas? "
   ]
  },
  {
   "cell_type": "markdown",
   "metadata": {},
   "source": [
    "Step 1: Hypothesis:\n",
    "\n",
    "Null: The lady tasting tea was lucky and guessed right. She is unable to distinguish The probability of her getting it right is .5.\n",
    "\n",
    "Alternate: The lady can actually taste the difference."
   ]
  },
  {
   "cell_type": "markdown",
   "metadata": {},
   "source": [
    "Step 2: The test statistic is number of successfully identified teas and milks independently.\n",
    "\n",
    "X: Number of times she correctly picked a cup poured with tea first.\n",
    "\n",
    "X~ Hypergeometric(M = 8, n = 4, N = 4)\n",
    "\n",
    "In the sample, the test statistic is 3. "
   ]
  },
  {
   "cell_type": "markdown",
   "metadata": {},
   "source": [
    "Step 3: Calculate p-value"
   ]
  },
  {
   "cell_type": "code",
   "execution_count": 2,
   "metadata": {},
   "outputs": [
    {
     "data": {
      "text/plain": [
       "0.24285714285714288"
      ]
     },
     "execution_count": 2,
     "metadata": {},
     "output_type": "execute_result"
    }
   ],
   "source": [
    "M,n,N = 8,4,4\n",
    "1-stats.hypergeom.cdf(2,M,n,N)"
   ]
  },
  {
   "cell_type": "markdown",
   "metadata": {},
   "source": [
    "Step 4: The p-value is greater than .05 so we fail to reject the null hypothesis. The data does not show that she can actually taste the difference."
   ]
  },
  {
   "cell_type": "markdown",
   "metadata": {},
   "source": [
    "### Example 2: iris dataset\n",
    "\n",
    "The `iris` dataset is common in introductory statistics. It shows various characteristics of three different species of irises. Let's determine whether the virginica species has a larger mean sepal width than that of versicolor. "
   ]
  },
  {
   "cell_type": "code",
   "execution_count": 3,
   "metadata": {},
   "outputs": [
    {
     "data": {
      "text/html": [
       "<table border=\"1\" class=\"dataframe\">\n",
       "    <thead>\n",
       "        <tr>\n",
       "            <th>species</th> <th>sepal_length mean</th> <th>sepal_width mean</th> <th>petal_length mean</th> <th>petal_width mean</th>\n",
       "        </tr>\n",
       "    </thead>\n",
       "    <tbody>\n",
       "        <tr>\n",
       "            <td>setosa    </td> <td>5.006            </td> <td>3.418           </td> <td>1.464            </td> <td>0.244           </td>\n",
       "        </tr>\n",
       "        <tr>\n",
       "            <td>versicolor</td> <td>5.936            </td> <td>2.77            </td> <td>4.26             </td> <td>1.326           </td>\n",
       "        </tr>\n",
       "        <tr>\n",
       "            <td>virginica </td> <td>6.588            </td> <td>2.974           </td> <td>5.552            </td> <td>2.026           </td>\n",
       "        </tr>\n",
       "    </tbody>\n",
       "</table>"
      ],
      "text/plain": [
       "species    | sepal_length mean | sepal_width mean | petal_length mean | petal_width mean\n",
       "setosa     | 5.006             | 3.418            | 1.464             | 0.244\n",
       "versicolor | 5.936             | 2.77             | 4.26              | 1.326\n",
       "virginica  | 6.588             | 2.974            | 5.552             | 2.026"
      ]
     },
     "execution_count": 3,
     "metadata": {},
     "output_type": "execute_result"
    }
   ],
   "source": [
    "iris=Table().read_table(\"iris.csv\")\n",
    "iris.group(4,np.mean)"
   ]
  },
  {
   "cell_type": "markdown",
   "metadata": {},
   "source": [
    "Step 1: State Hypotheses:\n",
    "\n",
    "Null: No difference in the sepal width.\n",
    "\n",
    "Alternate: The virginica species has a larger mean sepal width than the versicolor."
   ]
  },
  {
   "cell_type": "markdown",
   "metadata": {},
   "source": [
    "Step 2: X: Difference in sample of sepal width mean between virginica and versicolor. \n",
    "\n",
    "For the sample the test statistic is (2.974 - 2.77 = 0.204)."
   ]
  },
  {
   "cell_type": "markdown",
   "metadata": {},
   "source": [
    "Step 3: ..."
   ]
  },
  {
   "cell_type": "code",
   "execution_count": 4,
   "metadata": {},
   "outputs": [
    {
     "data": {
      "text/html": [
       "<table border=\"1\" class=\"dataframe\">\n",
       "    <thead>\n",
       "        <tr>\n",
       "            <th>species</th> <th>sepal_width</th>\n",
       "        </tr>\n",
       "    </thead>\n",
       "    <tbody>\n",
       "        <tr>\n",
       "            <td>versicolor</td> <td>3.2        </td>\n",
       "        </tr>\n",
       "        <tr>\n",
       "            <td>versicolor</td> <td>3.2        </td>\n",
       "        </tr>\n",
       "        <tr>\n",
       "            <td>versicolor</td> <td>3.1        </td>\n",
       "        </tr>\n",
       "        <tr>\n",
       "            <td>versicolor</td> <td>2.3        </td>\n",
       "        </tr>\n",
       "        <tr>\n",
       "            <td>versicolor</td> <td>2.8        </td>\n",
       "        </tr>\n",
       "        <tr>\n",
       "            <td>versicolor</td> <td>2.8        </td>\n",
       "        </tr>\n",
       "        <tr>\n",
       "            <td>versicolor</td> <td>3.3        </td>\n",
       "        </tr>\n",
       "        <tr>\n",
       "            <td>versicolor</td> <td>2.4        </td>\n",
       "        </tr>\n",
       "        <tr>\n",
       "            <td>versicolor</td> <td>2.9        </td>\n",
       "        </tr>\n",
       "        <tr>\n",
       "            <td>versicolor</td> <td>2.7        </td>\n",
       "        </tr>\n",
       "    </tbody>\n",
       "</table>\n",
       "<p>... (90 rows omitted)</p>"
      ],
      "text/plain": [
       "species    | sepal_width\n",
       "versicolor | 3.2\n",
       "versicolor | 3.2\n",
       "versicolor | 3.1\n",
       "versicolor | 2.3\n",
       "versicolor | 2.8\n",
       "versicolor | 2.8\n",
       "versicolor | 3.3\n",
       "versicolor | 2.4\n",
       "versicolor | 2.9\n",
       "versicolor | 2.7\n",
       "... (90 rows omitted)"
      ]
     },
     "execution_count": 4,
     "metadata": {},
     "output_type": "execute_result"
    }
   ],
   "source": [
    "iris_sub=iris.select(4,1).where(0,are.not_containing('setosa'))\n",
    "obs=np.diff(iris_sub.group(0,np.mean).column(1))[0]\n",
    "obs\n",
    "iris_sub"
   ]
  },
  {
   "cell_type": "code",
   "execution_count": 5,
   "metadata": {},
   "outputs": [],
   "source": [
    "num_obs = iris_sub.num_rows\n",
    "ts = []\n",
    "for _ in np.arange(10000):\n",
    "    iris_sample = iris_sub.with_column(\"sampled\", iris_sub.sample(num_obs, with_replacement=False).column(1))\n",
    "    ts = np.append(ts, np.diff(iris_sample.group(0,np.mean).column(2))[0])"
   ]
  },
  {
   "cell_type": "code",
   "execution_count": 6,
   "metadata": {},
   "outputs": [
    {
     "data": {
      "text/plain": [
       "0.0009"
      ]
     },
     "execution_count": 6,
     "metadata": {},
     "output_type": "execute_result"
    }
   ],
   "source": [
    "np.mean(ts>=.204)"
   ]
  },
  {
   "cell_type": "markdown",
   "metadata": {},
   "source": [
    "Step 4: We reject the null hypothesis because the p-value is less than 0.05. That means that the virginica species has a larger sepal width than the versicolor species."
   ]
  },
  {
   "cell_type": "code",
   "execution_count": 7,
   "metadata": {},
   "outputs": [
    {
     "data": {
      "image/png": "[encoded data removed]",
      "text/plain": [
       "<Figure size 432x288 with 1 Axes>"
      ]
     },
     "metadata": {},
     "output_type": "display_data"
    }
   ],
   "source": [
    "plt.hist(ts)\n",
    "plt.show()"
   ]
  }
 ],
 "metadata": {
  "kernelspec": {
   "display_name": "Python 3",
   "language": "python",
   "name": "python3"
  },
  "language_info": {
   "codemirror_mode": {
    "name": "ipython",
    "version": 3
   },
   "file_extension": ".py",
   "mimetype": "text/x-python",
   "name": "python",
   "nbconvert_exporter": "python",
   "pygments_lexer": "ipython3",
   "version": "3.6.5"
  }
 },
 "nbformat": 4,
 "nbformat_minor": 2
}
